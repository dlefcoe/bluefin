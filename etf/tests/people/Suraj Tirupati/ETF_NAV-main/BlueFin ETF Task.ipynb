{
 "cells": [
  {
   "cell_type": "code",
   "execution_count": 265,
   "id": "bb94a8d5",
   "metadata": {},
   "outputs": [],
   "source": [
    "import pandas as pd \n",
    "import numpy as np\n",
    "import time\n",
    "from timeit import default_timer as timer\n",
    "from datetime import timedelta"
   ]
  },
  {
   "cell_type": "markdown",
   "id": "3dd67544",
   "metadata": {},
   "source": [
    "# The Task\n",
    "\n",
    "- Calculate the value of the ETF using the ETF formula \n",
    "- Isolate all the unique ISINs into a separate dataframe\n",
    "- Increment each ticker by 1 + a normally distributed return \n",
    "- Assimilate all the unique ISINs back into the respective ETF dataframes \n",
    "- Recalculate their values "
   ]
  },
  {
   "cell_type": "markdown",
   "id": "eb7f6763",
   "metadata": {},
   "source": [
    "## Loading each of the ETFs into a Pandas DataFrame\n",
    "- The number of shares outstanding for each ETF was taken from the iShares website directly and stored as an integer "
   ]
  },
  {
   "cell_type": "code",
   "execution_count": 415,
   "id": "1d8e5ca3",
   "metadata": {},
   "outputs": [],
   "source": [
    "IS15 = pd.read_csv(\"IS15_holdings.csv\").dropna()\n",
    "IS15.columns = IS15.iloc[0]\n",
    "IS15 = IS15.iloc[1: , :]\n",
    "IS15_so = 12100283\n",
    "\n",
    "ISXF = pd.read_csv(\"ISXf_holdings.csv\").dropna()\n",
    "ISXF.columns = ISXF.iloc[0]\n",
    "ISXF = ISXF.iloc[1: , :]\n",
    "ISXF_so = 1375105\n",
    "\n",
    "ERNS = pd.read_csv(\"ERNS_holdings.csv\").dropna()\n",
    "ERNS.columns = ERNS.iloc[0]\n",
    "ERNS = ERNS.iloc[1: , :]\n",
    "ERNS_so = 6908124\n",
    "\n",
    "LQDA = pd.read_csv(\"LQDA_holdings.csv\").dropna()\n",
    "LQDA.columns = LQDA.iloc[0]\n",
    "LQDA = LQDA.iloc[1: , :]\n",
    "LQDA_so = 214978445\n",
    "\n",
    "LQDE = pd.read_csv(\"LQDA_holdings.csv\").dropna()\n",
    "LQDE.columns = LQDE.iloc[0]\n",
    "LQDE = LQDE.iloc[1: , :]\n",
    "LQDE_so = 31083977\n",
    "\n",
    "etf_shares = [IS15_so, ISXF_so, ERNS_so, LQDA_so, LQDE_so]"
   ]
  },
  {
   "cell_type": "markdown",
   "id": "8be9e1f0",
   "metadata": {},
   "source": [
    "## Defining functions for application in this task"
   ]
  },
  {
   "cell_type": "code",
   "execution_count": 435,
   "id": "efe29730",
   "metadata": {},
   "outputs": [],
   "source": [
    "def convert(pd_series):\n",
    "    \"\"\"\n",
    "    Takes an input pandas series with it's values as strings and first\n",
    "    removes any commas, then converts the values into floats\n",
    "    \"\"\"\n",
    "    pd_series = pd_series.str.replace(',','')\n",
    "    pd_series = pd_series.astype('float')\n",
    "    return pd_series\n",
    "\n",
    "def conv_df(data):\n",
    "    \"\"\"\n",
    "    Takes an input pandas dataframe from iShares and converts the Market Value,\n",
    "    Notional Value, Price, and Weight into floats. \n",
    "    The function prints an error statement if the values are not strings; it can \n",
    "    only be run on the dataframes once. \n",
    "    \"\"\"\n",
    "\n",
    "    try:\n",
    "        # cleaning the data and converting the relevant columns to floats\n",
    "        data[\"Market Value\"] = convert(data[\"Market Value\"])\n",
    "        data[\"Notional Value\"] = convert(data[\"Notional Value\"])\n",
    "        data[\"Price\"] = convert(data[\"Price\"])\n",
    "        data[\"Weight (%)\"] = convert(data[\"Weight (%)\"])\n",
    "        data[\"ISIN\"] = data[\"ISIN\"].astype(\"string\")\n",
    "        \n",
    "    except:\n",
    "        print(\"The values are not strings. You may have run the same script twice.\")\n",
    "\n",
    "    return data\n",
    "\n",
    "\n",
    "def increment_mvs(data, isins, mean, vol):\n",
    "    \"\"\"\n",
    "    This function takes in an input dataframe from the iShares website.\n",
    "    Creates a new column called \"New Market Value\".\n",
    "    Generates random returns from a normal distribution.\n",
    "    Then adjusts each previous market value, indexed by the ISIN, to a new market value based\n",
    "    on the return associated with that ISIN.\n",
    "    It returns the same dataframe with the New Market Value column.\n",
    "    \"\"\"\n",
    "    \n",
    "    data[\"New Market Value\"] = \"\"\n",
    "    returns = 1 + np.random.normal(mean, vol, len(isins))\n",
    "    count = 0\n",
    "    \n",
    "    for i in range(0, len(isins)):\n",
    "        if isins[i] in data[\"ISIN\"].values == True:\n",
    "            data.loc[data[\"ISIN\"] == isins[i], \"New Market Value\"] = round(float(data.loc[data[\"Market Value\"][data[\"ISIN\"] == isins[i]].index][\"Market Value\"].values * returns[i]),2)\n",
    "            count = count + 1 \n",
    "        if count == len(data):\n",
    "            break \n",
    "    \n",
    "    return data  \n",
    "\n",
    "def calc_nav(df, shares, new=False):\n",
    "    \"\"\"\n",
    "    This function calculates the net asset value of the input ETF\n",
    "    It takes in an ETF dataframe from the iShares website along with the number of outstanding shares\n",
    "    The function calculates the net asset value by simply summating the market values of each asset - the market \n",
    "    values of each asset within the portfolio are already provided so there is no need to multiply anything\n",
    "    by the relevant weights. \n",
    "    The function also takes in a boolean \"new\" - if new is True, then the new market values are calculated using\n",
    "    the \"New Market Value\" column instead of the original \"Market Value\" column\n",
    "    \"\"\"\n",
    "    if new == False:\n",
    "        nav = df[\"Market Value\"].sum()/shares\n",
    "        return round(float(nav), 2)\n",
    "    \n",
    "    else:\n",
    "        nav = (df[\"New Market Value\"][df[\"ISIN\"] != \"-\"].sum() + df[\"Market Value\"][df[\"ISIN\"] == \"-\"].sum())/shares\n",
    "        return round(float(nav), 2)\n",
    "    \n",
    "def re_calc_navs(etfs, etf_shares, mean, vol):\n",
    "    \"\"\"\n",
    "    This function takes in a list of dataframes containing the iShares ETF datasets, the number of outstanding shares per \n",
    "    dataframe, and also the mean and volatility parameters for a normal distribution from which random returns will be \n",
    "    generated to perturb the market values of the contents of the ETFs. \n",
    "    The function works by concatenating all the ISINs from each of the dataframes together, only taking the unique ones, \n",
    "    then adding a random perturbation to each market value indexed by each ISIN ID in each of the ETF dataframes. \n",
    "    The new market values are then used to recalculate the NAV. \n",
    "    The entire function is timed with the time outputted. \n",
    "    \"\"\"\n",
    "    navs = []\n",
    "\n",
    "    start = timer()\n",
    "\n",
    "    # concatenating the ISINs from each dataframe together into a numpy array of unique ISINs\n",
    "    isins = np.unique(np.concatenate([etfs[i][\"ISIN\"][etfs[i][\"ISIN\"] != '-'].unique() for i in range(len(etfs))]))\n",
    "\n",
    "    # adjusting the market values\n",
    "    for i in range(len(etfs)):\n",
    "        etfs[i] = increment_mvs(etfs[i], isins, mean, vol)\n",
    "        navs.append(calc_nav(etfs[i], etf_shares[i], True))\n",
    "\n",
    "    end = timer()\n",
    "    \n",
    "    return navs, timedelta(seconds=end-start)"
   ]
  },
  {
   "cell_type": "markdown",
   "id": "1b7dab3b",
   "metadata": {},
   "source": [
    "## Converting each dataframe's columns into the proper Pythonic type"
   ]
  },
  {
   "cell_type": "code",
   "execution_count": 416,
   "id": "728d3b54",
   "metadata": {},
   "outputs": [],
   "source": [
    "# Converting the column values to their relevant types\n",
    "IS15 = conv_df(IS15)\n",
    "ISXF = conv_df(ISXF)\n",
    "ERNS = conv_df(ERNS)\n",
    "LQDA = conv_df(LQDA)\n",
    "LQDE = conv_df(LQDE)"
   ]
  },
  {
   "cell_type": "markdown",
   "id": "6a26df29",
   "metadata": {},
   "source": [
    "## Calculating the NAV of each ETF statically"
   ]
  },
  {
   "cell_type": "code",
   "execution_count": 421,
   "id": "2dca5b4c",
   "metadata": {},
   "outputs": [
    {
     "name": "stdout",
     "output_type": "stream",
     "text": [
      "NAV: \n",
      "106.91\n",
      "\n",
      "Time to calculate: \n",
      "0:00:00.000138\n",
      "NAV: \n",
      "135.28\n",
      "\n",
      "Time to calculate: \n",
      "0:00:00.000131\n",
      "NAV: \n",
      "100.41\n",
      "\n",
      "Time to calculate: \n",
      "0:00:00.000202\n",
      "NAV: \n",
      "27.85\n",
      "\n",
      "Time to calculate: \n",
      "0:00:00.000234\n",
      "NAV: \n",
      "192.61\n",
      "\n",
      "Time to calculate: \n",
      "0:00:00.000136\n"
     ]
    }
   ],
   "source": [
    "# defining list of etfs and list of shares outstanding per etf\n",
    "etfs = [IS15, ISXF, ERNS, LQDA, LQDE]\n",
    "etf_shares = [IS15_so, ISXF_so, ERNS_so, LQDA_so, LQDE_so]\n",
    "\n",
    "for i in range(len(etfs)):\n",
    "    # Calculate NAV\n",
    "    start = timer()\n",
    "    nav = calc_nav(etfs[i], etf_shares[i])\n",
    "    end = timer()\n",
    "\n",
    "    og_time = timedelta(seconds=end-start)\n",
    "    print(\"NAV: \", nav, \"\", \"Time to calculate: \", og_time, sep=\"\\n\")"
   ]
  },
  {
   "cell_type": "markdown",
   "id": "96505edd",
   "metadata": {},
   "source": [
    "## Adding random normally distributed perturbations to each unique ISIN and re-calculating the NAV of each ETF"
   ]
  },
  {
   "cell_type": "code",
   "execution_count": 434,
   "id": "89efbada",
   "metadata": {},
   "outputs": [
    {
     "name": "stdout",
     "output_type": "stream",
     "text": [
      "NAV values: [106.92]\n",
      "0:00:00.397289\n",
      "Increase in time for 1 ETFs: 2921.2426470588234\n",
      "NAV values: [106.97, 135.19]\n",
      "0:00:00.993730\n",
      "Increase in time for 2 ETFs: 7306.838235294118\n",
      "NAV values: [106.87, 135.22, 100.45]\n",
      "0:00:01.232013\n",
      "Increase in time for 3 ETFs: 9058.91911764706\n",
      "NAV values: [106.87, 135.2, 100.33, 27.84]\n",
      "0:00:05.961844\n",
      "Increase in time for 4 ETFs: 43837.08823529412\n",
      "NAV values: [107.02, 135.22, 100.45, 27.86, 192.58]\n",
      "0:00:10.160879\n",
      "Increase in time for 5 ETFs: 74712.3455882353\n"
     ]
    }
   ],
   "source": [
    "# list of dataframes containing each iShares ETF dataset\n",
    "etfs = [IS15, ISXF, ERNS, LQDA, LQDE]\n",
    "etf_shares = [IS15_so, ISXF_so, ERNS_so, LQDA_so, LQDE_so]\n",
    "\n",
    "# normal distribution parameters for perturbing the the market values\n",
    "mean = 0\n",
    "vol = 0.01\n",
    "\n",
    "for i in range(len(etfs)):\n",
    "    e = etfs[0:i+1]\n",
    "    navs, time = re_calc_navs(e, etf_shares, mean, vol)\n",
    "    print(\"NAV values:\", navs)\n",
    "    print(time)\n",
    "    print(\"Increase in time for\", len(e), \"ETFs:\", time/og_time)"
   ]
  },
  {
   "cell_type": "code",
   "execution_count": null,
   "id": "b8073897",
   "metadata": {},
   "outputs": [],
   "source": []
  }
 ],
 "metadata": {
  "kernelspec": {
   "display_name": "Python 3 (ipykernel)",
   "language": "python",
   "name": "python3"
  },
  "language_info": {
   "codemirror_mode": {
    "name": "ipython",
    "version": 3
   },
   "file_extension": ".py",
   "mimetype": "text/x-python",
   "name": "python",
   "nbconvert_exporter": "python",
   "pygments_lexer": "ipython3",
   "version": "3.7.9"
  }
 },
 "nbformat": 4,
 "nbformat_minor": 5
}
