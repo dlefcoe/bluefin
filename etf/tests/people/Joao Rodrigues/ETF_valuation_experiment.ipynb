{
 "cells": [
  {
   "cell_type": "markdown",
   "metadata": {},
   "source": [
    "# Experiment - Efficient ETF pricing\n",
    "##### Joao Rodrigues"
   ]
  },
  {
   "cell_type": "markdown",
   "metadata": {},
   "source": [
    "All necessary imports:"
   ]
  },
  {
   "cell_type": "code",
   "execution_count": 1,
   "metadata": {},
   "outputs": [],
   "source": [
    "import pandas as pd\n",
    "import time\n",
    "import matplotlib.pyplot as plt\n",
    "import numpy as np\n",
    "from tqdm import tqdm\n",
    "import copy\n",
    "from numpy.random import default_rng\n",
    "pd.set_option('mode.chained_assignment', None)"
   ]
  },
  {
   "cell_type": "markdown",
   "metadata": {},
   "source": [
    "## Generic data preparation"
   ]
  },
  {
   "cell_type": "markdown",
   "metadata": {},
   "source": [
    "Let's import a real fixed-income ETF composition file, downloaded from the iShares website"
   ]
  },
  {
   "cell_type": "code",
   "execution_count": 2,
   "metadata": {},
   "outputs": [],
   "source": [
    "filename = \"JPEA_holdings.csv\""
   ]
  },
  {
   "cell_type": "code",
   "execution_count": 3,
   "metadata": {},
   "outputs": [],
   "source": [
    "holdings = pd.read_csv(\n",
    "    filename,\n",
    "    header = 2)"
   ]
  },
  {
   "cell_type": "markdown",
   "metadata": {},
   "source": [
    "Let's look at the ETF holdings:"
   ]
  },
  {
   "cell_type": "code",
   "execution_count": 4,
   "metadata": {},
   "outputs": [
    {
     "data": {
      "text/html": [
       "<div>\n",
       "<style scoped>\n",
       "    .dataframe tbody tr th:only-of-type {\n",
       "        vertical-align: middle;\n",
       "    }\n",
       "\n",
       "    .dataframe tbody tr th {\n",
       "        vertical-align: top;\n",
       "    }\n",
       "\n",
       "    .dataframe thead th {\n",
       "        text-align: right;\n",
       "    }\n",
       "</style>\n",
       "<table border=\"1\" class=\"dataframe\">\n",
       "  <thead>\n",
       "    <tr style=\"text-align: right;\">\n",
       "      <th></th>\n",
       "      <th>Issuer Ticker</th>\n",
       "      <th>Name</th>\n",
       "      <th>Asset Class</th>\n",
       "      <th>Weight (%)</th>\n",
       "      <th>Price</th>\n",
       "      <th>Nominal</th>\n",
       "      <th>Market Value</th>\n",
       "      <th>Notional Value</th>\n",
       "      <th>Sector</th>\n",
       "      <th>ISIN</th>\n",
       "      <th>Coupon (%)</th>\n",
       "      <th>Maturity</th>\n",
       "      <th>Exchange</th>\n",
       "      <th>Location</th>\n",
       "      <th>Market Currency</th>\n",
       "      <th>Duration</th>\n",
       "    </tr>\n",
       "  </thead>\n",
       "  <tbody>\n",
       "    <tr>\n",
       "      <th>0</th>\n",
       "      <td>USD</td>\n",
       "      <td>USD CASH</td>\n",
       "      <td>Cash</td>\n",
       "      <td>2.83</td>\n",
       "      <td>100.00</td>\n",
       "      <td>284,531,412.00</td>\n",
       "      <td>284,531,411.54</td>\n",
       "      <td>284,531,411.54</td>\n",
       "      <td>Cash and/or Derivatives</td>\n",
       "      <td>-</td>\n",
       "      <td>0.00</td>\n",
       "      <td>-</td>\n",
       "      <td>-</td>\n",
       "      <td>United States</td>\n",
       "      <td>USD</td>\n",
       "      <td>0.00</td>\n",
       "    </tr>\n",
       "    <tr>\n",
       "      <th>1</th>\n",
       "      <td>ECUA</td>\n",
       "      <td>ECUADOR REPUBLIC OF (GOVERNMENT) RegS</td>\n",
       "      <td>Fixed Income</td>\n",
       "      <td>0.83</td>\n",
       "      <td>68.75</td>\n",
       "      <td>121,919,614.00</td>\n",
       "      <td>83,850,214.53</td>\n",
       "      <td>83,850,214.53</td>\n",
       "      <td>Sovereign</td>\n",
       "      <td>XS2214238441</td>\n",
       "      <td>1.00</td>\n",
       "      <td>31/Jul/2035</td>\n",
       "      <td>-</td>\n",
       "      <td>Ecuador</td>\n",
       "      <td>USD</td>\n",
       "      <td>8.75</td>\n",
       "    </tr>\n",
       "    <tr>\n",
       "      <th>2</th>\n",
       "      <td>RUSSIA</td>\n",
       "      <td>RUSSIAN FEDERATION RegS</td>\n",
       "      <td>Fixed Income</td>\n",
       "      <td>0.82</td>\n",
       "      <td>128.71</td>\n",
       "      <td>64,000,000.00</td>\n",
       "      <td>82,801,333.33</td>\n",
       "      <td>82,801,333.33</td>\n",
       "      <td>Sovereign</td>\n",
       "      <td>RU000A0JXU14</td>\n",
       "      <td>5.25</td>\n",
       "      <td>23/Jun/2047</td>\n",
       "      <td>-</td>\n",
       "      <td>Russian Federation</td>\n",
       "      <td>USD</td>\n",
       "      <td>15.26</td>\n",
       "    </tr>\n",
       "    <tr>\n",
       "      <th>3</th>\n",
       "      <td>URUGUA</td>\n",
       "      <td>URUGUAY (ORIENTAL REPUBLIC OF)</td>\n",
       "      <td>Fixed Income</td>\n",
       "      <td>0.74</td>\n",
       "      <td>131.18</td>\n",
       "      <td>56,833,766.00</td>\n",
       "      <td>74,962,316.51</td>\n",
       "      <td>74,962,316.51</td>\n",
       "      <td>Sovereign</td>\n",
       "      <td>US760942BA98</td>\n",
       "      <td>5.10</td>\n",
       "      <td>18/Jun/2050</td>\n",
       "      <td>-</td>\n",
       "      <td>Uruguay</td>\n",
       "      <td>USD</td>\n",
       "      <td>16.17</td>\n",
       "    </tr>\n",
       "    <tr>\n",
       "      <th>4</th>\n",
       "      <td>KUWIB</td>\n",
       "      <td>KUWAIT STATE OF (GOVERNMENT) MTN RegS</td>\n",
       "      <td>Fixed Income</td>\n",
       "      <td>0.72</td>\n",
       "      <td>111.61</td>\n",
       "      <td>64,110,000.00</td>\n",
       "      <td>72,421,149.17</td>\n",
       "      <td>72,421,149.17</td>\n",
       "      <td>Sovereign</td>\n",
       "      <td>XS1582346968</td>\n",
       "      <td>3.50</td>\n",
       "      <td>20/Mar/2027</td>\n",
       "      <td>-</td>\n",
       "      <td>Kuwait</td>\n",
       "      <td>USD</td>\n",
       "      <td>5.09</td>\n",
       "    </tr>\n",
       "    <tr>\n",
       "      <th>...</th>\n",
       "      <td>...</td>\n",
       "      <td>...</td>\n",
       "      <td>...</td>\n",
       "      <td>...</td>\n",
       "      <td>...</td>\n",
       "      <td>...</td>\n",
       "      <td>...</td>\n",
       "      <td>...</td>\n",
       "      <td>...</td>\n",
       "      <td>...</td>\n",
       "      <td>...</td>\n",
       "      <td>...</td>\n",
       "      <td>...</td>\n",
       "      <td>...</td>\n",
       "      <td>...</td>\n",
       "      <td>...</td>\n",
       "    </tr>\n",
       "    <tr>\n",
       "      <th>569</th>\n",
       "      <td>CHF</td>\n",
       "      <td>CHF CASH</td>\n",
       "      <td>Cash</td>\n",
       "      <td>0.00</td>\n",
       "      <td>108.75</td>\n",
       "      <td>23,549.00</td>\n",
       "      <td>25,609.27</td>\n",
       "      <td>25,609.27</td>\n",
       "      <td>Cash and/or Derivatives</td>\n",
       "      <td>-</td>\n",
       "      <td>0.00</td>\n",
       "      <td>-</td>\n",
       "      <td>-</td>\n",
       "      <td>Switzerland</td>\n",
       "      <td>CHF</td>\n",
       "      <td>0.00</td>\n",
       "    </tr>\n",
       "    <tr>\n",
       "      <th>570</th>\n",
       "      <td>EUR</td>\n",
       "      <td>EUR CASH</td>\n",
       "      <td>Cash</td>\n",
       "      <td>0.00</td>\n",
       "      <td>117.45</td>\n",
       "      <td>952.00</td>\n",
       "      <td>1,118.50</td>\n",
       "      <td>1,118.50</td>\n",
       "      <td>Cash and/or Derivatives</td>\n",
       "      <td>-</td>\n",
       "      <td>0.00</td>\n",
       "      <td>-</td>\n",
       "      <td>-</td>\n",
       "      <td>European Union</td>\n",
       "      <td>EUR</td>\n",
       "      <td>0.00</td>\n",
       "    </tr>\n",
       "    <tr>\n",
       "      <th>571</th>\n",
       "      <td>GBP</td>\n",
       "      <td>GBP/USD</td>\n",
       "      <td>FX</td>\n",
       "      <td>0.00</td>\n",
       "      <td>1.00</td>\n",
       "      <td>198,247,300.00</td>\n",
       "      <td>0.00</td>\n",
       "      <td>0.00</td>\n",
       "      <td>Cash and/or Derivatives</td>\n",
       "      <td>-</td>\n",
       "      <td>0.00</td>\n",
       "      <td>11/Aug/2021</td>\n",
       "      <td>-</td>\n",
       "      <td>United States</td>\n",
       "      <td>USD</td>\n",
       "      <td>0.00</td>\n",
       "    </tr>\n",
       "    <tr>\n",
       "      <th>572</th>\n",
       "      <td>GBP</td>\n",
       "      <td>GBP CASH</td>\n",
       "      <td>Cash</td>\n",
       "      <td>-2.72</td>\n",
       "      <td>138.48</td>\n",
       "      <td>-197,984,325.00</td>\n",
       "      <td>-274,168,693.68</td>\n",
       "      <td>-274,168,693.68</td>\n",
       "      <td>Cash and/or Derivatives</td>\n",
       "      <td>-</td>\n",
       "      <td>0.00</td>\n",
       "      <td>-</td>\n",
       "      <td>-</td>\n",
       "      <td>United Kingdom</td>\n",
       "      <td>GBP</td>\n",
       "      <td>0.00</td>\n",
       "    </tr>\n",
       "    <tr>\n",
       "      <th>573</th>\n",
       "      <td></td>\n",
       "      <td>NaN</td>\n",
       "      <td>NaN</td>\n",
       "      <td>NaN</td>\n",
       "      <td>NaN</td>\n",
       "      <td>NaN</td>\n",
       "      <td>NaN</td>\n",
       "      <td>NaN</td>\n",
       "      <td>NaN</td>\n",
       "      <td>NaN</td>\n",
       "      <td>NaN</td>\n",
       "      <td>NaN</td>\n",
       "      <td>NaN</td>\n",
       "      <td>NaN</td>\n",
       "      <td>NaN</td>\n",
       "      <td>NaN</td>\n",
       "    </tr>\n",
       "  </tbody>\n",
       "</table>\n",
       "<p>574 rows × 16 columns</p>\n",
       "</div>"
      ],
      "text/plain": [
       "    Issuer Ticker                                   Name   Asset Class  \\\n",
       "0             USD                               USD CASH          Cash   \n",
       "1            ECUA  ECUADOR REPUBLIC OF (GOVERNMENT) RegS  Fixed Income   \n",
       "2          RUSSIA                RUSSIAN FEDERATION RegS  Fixed Income   \n",
       "3          URUGUA         URUGUAY (ORIENTAL REPUBLIC OF)  Fixed Income   \n",
       "4           KUWIB  KUWAIT STATE OF (GOVERNMENT) MTN RegS  Fixed Income   \n",
       "..            ...                                    ...           ...   \n",
       "569           CHF                               CHF CASH          Cash   \n",
       "570           EUR                               EUR CASH          Cash   \n",
       "571           GBP                                GBP/USD            FX   \n",
       "572           GBP                               GBP CASH          Cash   \n",
       "573                                                  NaN           NaN   \n",
       "\n",
       "     Weight (%)   Price          Nominal     Market Value   Notional Value  \\\n",
       "0          2.83  100.00   284,531,412.00   284,531,411.54   284,531,411.54   \n",
       "1          0.83   68.75   121,919,614.00    83,850,214.53    83,850,214.53   \n",
       "2          0.82  128.71    64,000,000.00    82,801,333.33    82,801,333.33   \n",
       "3          0.74  131.18    56,833,766.00    74,962,316.51    74,962,316.51   \n",
       "4          0.72  111.61    64,110,000.00    72,421,149.17    72,421,149.17   \n",
       "..          ...     ...              ...              ...              ...   \n",
       "569        0.00  108.75        23,549.00        25,609.27        25,609.27   \n",
       "570        0.00  117.45           952.00         1,118.50         1,118.50   \n",
       "571        0.00    1.00   198,247,300.00             0.00             0.00   \n",
       "572       -2.72  138.48  -197,984,325.00  -274,168,693.68  -274,168,693.68   \n",
       "573         NaN     NaN              NaN              NaN              NaN   \n",
       "\n",
       "                      Sector          ISIN  Coupon (%)     Maturity Exchange  \\\n",
       "0    Cash and/or Derivatives             -        0.00            -        -   \n",
       "1                  Sovereign  XS2214238441        1.00  31/Jul/2035        -   \n",
       "2                  Sovereign  RU000A0JXU14        5.25  23/Jun/2047        -   \n",
       "3                  Sovereign  US760942BA98        5.10  18/Jun/2050        -   \n",
       "4                  Sovereign  XS1582346968        3.50  20/Mar/2027        -   \n",
       "..                       ...           ...         ...          ...      ...   \n",
       "569  Cash and/or Derivatives             -        0.00            -        -   \n",
       "570  Cash and/or Derivatives             -        0.00            -        -   \n",
       "571  Cash and/or Derivatives             -        0.00  11/Aug/2021        -   \n",
       "572  Cash and/or Derivatives             -        0.00            -        -   \n",
       "573                      NaN           NaN         NaN          NaN      NaN   \n",
       "\n",
       "               Location Market Currency  Duration  \n",
       "0         United States             USD      0.00  \n",
       "1               Ecuador             USD      8.75  \n",
       "2    Russian Federation             USD     15.26  \n",
       "3               Uruguay             USD     16.17  \n",
       "4                Kuwait             USD      5.09  \n",
       "..                  ...             ...       ...  \n",
       "569         Switzerland             CHF      0.00  \n",
       "570      European Union             EUR      0.00  \n",
       "571       United States             USD      0.00  \n",
       "572      United Kingdom             GBP      0.00  \n",
       "573                 NaN             NaN       NaN  \n",
       "\n",
       "[574 rows x 16 columns]"
      ]
     },
     "execution_count": 4,
     "metadata": {},
     "output_type": "execute_result"
    }
   ],
   "source": [
    "holdings"
   ]
  },
  {
   "cell_type": "markdown",
   "metadata": {},
   "source": [
    "Let's delete the last row with NaN"
   ]
  },
  {
   "cell_type": "code",
   "execution_count": 5,
   "metadata": {},
   "outputs": [],
   "source": [
    "holdings.dropna(\n",
    "    inplace     = True)"
   ]
  },
  {
   "cell_type": "code",
   "execution_count": 6,
   "metadata": {},
   "outputs": [
    {
     "data": {
      "text/plain": [
       "99.9"
      ]
     },
     "execution_count": 6,
     "metadata": {},
     "output_type": "execute_result"
    }
   ],
   "source": [
    "holdings[\"Weight (%)\"].sum()"
   ]
  },
  {
   "cell_type": "markdown",
   "metadata": {},
   "source": [
    "Weights do not sum up to 1 exactly, probably due to rounding errors in the composition file"
   ]
  },
  {
   "cell_type": "markdown",
   "metadata": {},
   "source": [
    "Some securities do not have a unique ISIN identifier. Let associate a \"fake\" ISIN identifier to them."
   ]
  },
  {
   "cell_type": "code",
   "execution_count": 7,
   "metadata": {},
   "outputs": [],
   "source": [
    "for row in holdings.loc[holdings[\"ISIN\"]==\"-\"].itertuples():\n",
    "    holdings.loc[row.Index, \"ISIN\"] = \"ABC\"+str(row.Index)"
   ]
  },
  {
   "cell_type": "code",
   "execution_count": 8,
   "metadata": {},
   "outputs": [
    {
     "data": {
      "text/html": [
       "<div>\n",
       "<style scoped>\n",
       "    .dataframe tbody tr th:only-of-type {\n",
       "        vertical-align: middle;\n",
       "    }\n",
       "\n",
       "    .dataframe tbody tr th {\n",
       "        vertical-align: top;\n",
       "    }\n",
       "\n",
       "    .dataframe thead th {\n",
       "        text-align: right;\n",
       "    }\n",
       "</style>\n",
       "<table border=\"1\" class=\"dataframe\">\n",
       "  <thead>\n",
       "    <tr style=\"text-align: right;\">\n",
       "      <th></th>\n",
       "      <th>Issuer Ticker</th>\n",
       "      <th>Name</th>\n",
       "      <th>Asset Class</th>\n",
       "      <th>Weight (%)</th>\n",
       "      <th>Price</th>\n",
       "      <th>Nominal</th>\n",
       "      <th>Market Value</th>\n",
       "      <th>Notional Value</th>\n",
       "      <th>Sector</th>\n",
       "      <th>ISIN</th>\n",
       "      <th>Coupon (%)</th>\n",
       "      <th>Maturity</th>\n",
       "      <th>Exchange</th>\n",
       "      <th>Location</th>\n",
       "      <th>Market Currency</th>\n",
       "      <th>Duration</th>\n",
       "    </tr>\n",
       "  </thead>\n",
       "  <tbody>\n",
       "    <tr>\n",
       "      <th>0</th>\n",
       "      <td>USD</td>\n",
       "      <td>USD CASH</td>\n",
       "      <td>Cash</td>\n",
       "      <td>2.83</td>\n",
       "      <td>100.00</td>\n",
       "      <td>284,531,412.00</td>\n",
       "      <td>284,531,411.54</td>\n",
       "      <td>284,531,411.54</td>\n",
       "      <td>Cash and/or Derivatives</td>\n",
       "      <td>ABC0</td>\n",
       "      <td>0.00</td>\n",
       "      <td>-</td>\n",
       "      <td>-</td>\n",
       "      <td>United States</td>\n",
       "      <td>USD</td>\n",
       "      <td>0.00</td>\n",
       "    </tr>\n",
       "    <tr>\n",
       "      <th>1</th>\n",
       "      <td>ECUA</td>\n",
       "      <td>ECUADOR REPUBLIC OF (GOVERNMENT) RegS</td>\n",
       "      <td>Fixed Income</td>\n",
       "      <td>0.83</td>\n",
       "      <td>68.75</td>\n",
       "      <td>121,919,614.00</td>\n",
       "      <td>83,850,214.53</td>\n",
       "      <td>83,850,214.53</td>\n",
       "      <td>Sovereign</td>\n",
       "      <td>XS2214238441</td>\n",
       "      <td>1.00</td>\n",
       "      <td>31/Jul/2035</td>\n",
       "      <td>-</td>\n",
       "      <td>Ecuador</td>\n",
       "      <td>USD</td>\n",
       "      <td>8.75</td>\n",
       "    </tr>\n",
       "    <tr>\n",
       "      <th>2</th>\n",
       "      <td>RUSSIA</td>\n",
       "      <td>RUSSIAN FEDERATION RegS</td>\n",
       "      <td>Fixed Income</td>\n",
       "      <td>0.82</td>\n",
       "      <td>128.71</td>\n",
       "      <td>64,000,000.00</td>\n",
       "      <td>82,801,333.33</td>\n",
       "      <td>82,801,333.33</td>\n",
       "      <td>Sovereign</td>\n",
       "      <td>RU000A0JXU14</td>\n",
       "      <td>5.25</td>\n",
       "      <td>23/Jun/2047</td>\n",
       "      <td>-</td>\n",
       "      <td>Russian Federation</td>\n",
       "      <td>USD</td>\n",
       "      <td>15.26</td>\n",
       "    </tr>\n",
       "    <tr>\n",
       "      <th>3</th>\n",
       "      <td>URUGUA</td>\n",
       "      <td>URUGUAY (ORIENTAL REPUBLIC OF)</td>\n",
       "      <td>Fixed Income</td>\n",
       "      <td>0.74</td>\n",
       "      <td>131.18</td>\n",
       "      <td>56,833,766.00</td>\n",
       "      <td>74,962,316.51</td>\n",
       "      <td>74,962,316.51</td>\n",
       "      <td>Sovereign</td>\n",
       "      <td>US760942BA98</td>\n",
       "      <td>5.10</td>\n",
       "      <td>18/Jun/2050</td>\n",
       "      <td>-</td>\n",
       "      <td>Uruguay</td>\n",
       "      <td>USD</td>\n",
       "      <td>16.17</td>\n",
       "    </tr>\n",
       "    <tr>\n",
       "      <th>4</th>\n",
       "      <td>KUWIB</td>\n",
       "      <td>KUWAIT STATE OF (GOVERNMENT) MTN RegS</td>\n",
       "      <td>Fixed Income</td>\n",
       "      <td>0.72</td>\n",
       "      <td>111.61</td>\n",
       "      <td>64,110,000.00</td>\n",
       "      <td>72,421,149.17</td>\n",
       "      <td>72,421,149.17</td>\n",
       "      <td>Sovereign</td>\n",
       "      <td>XS1582346968</td>\n",
       "      <td>3.50</td>\n",
       "      <td>20/Mar/2027</td>\n",
       "      <td>-</td>\n",
       "      <td>Kuwait</td>\n",
       "      <td>USD</td>\n",
       "      <td>5.09</td>\n",
       "    </tr>\n",
       "    <tr>\n",
       "      <th>...</th>\n",
       "      <td>...</td>\n",
       "      <td>...</td>\n",
       "      <td>...</td>\n",
       "      <td>...</td>\n",
       "      <td>...</td>\n",
       "      <td>...</td>\n",
       "      <td>...</td>\n",
       "      <td>...</td>\n",
       "      <td>...</td>\n",
       "      <td>...</td>\n",
       "      <td>...</td>\n",
       "      <td>...</td>\n",
       "      <td>...</td>\n",
       "      <td>...</td>\n",
       "      <td>...</td>\n",
       "      <td>...</td>\n",
       "    </tr>\n",
       "    <tr>\n",
       "      <th>568</th>\n",
       "      <td>MXN</td>\n",
       "      <td>MXN CASH</td>\n",
       "      <td>Cash</td>\n",
       "      <td>0.00</td>\n",
       "      <td>4.97</td>\n",
       "      <td>3,330,911.00</td>\n",
       "      <td>165,599.56</td>\n",
       "      <td>165,599.56</td>\n",
       "      <td>Cash and/or Derivatives</td>\n",
       "      <td>ABC568</td>\n",
       "      <td>0.00</td>\n",
       "      <td>-</td>\n",
       "      <td>-</td>\n",
       "      <td>Mexico</td>\n",
       "      <td>MXN</td>\n",
       "      <td>0.00</td>\n",
       "    </tr>\n",
       "    <tr>\n",
       "      <th>569</th>\n",
       "      <td>CHF</td>\n",
       "      <td>CHF CASH</td>\n",
       "      <td>Cash</td>\n",
       "      <td>0.00</td>\n",
       "      <td>108.75</td>\n",
       "      <td>23,549.00</td>\n",
       "      <td>25,609.27</td>\n",
       "      <td>25,609.27</td>\n",
       "      <td>Cash and/or Derivatives</td>\n",
       "      <td>ABC569</td>\n",
       "      <td>0.00</td>\n",
       "      <td>-</td>\n",
       "      <td>-</td>\n",
       "      <td>Switzerland</td>\n",
       "      <td>CHF</td>\n",
       "      <td>0.00</td>\n",
       "    </tr>\n",
       "    <tr>\n",
       "      <th>570</th>\n",
       "      <td>EUR</td>\n",
       "      <td>EUR CASH</td>\n",
       "      <td>Cash</td>\n",
       "      <td>0.00</td>\n",
       "      <td>117.45</td>\n",
       "      <td>952.00</td>\n",
       "      <td>1,118.50</td>\n",
       "      <td>1,118.50</td>\n",
       "      <td>Cash and/or Derivatives</td>\n",
       "      <td>ABC570</td>\n",
       "      <td>0.00</td>\n",
       "      <td>-</td>\n",
       "      <td>-</td>\n",
       "      <td>European Union</td>\n",
       "      <td>EUR</td>\n",
       "      <td>0.00</td>\n",
       "    </tr>\n",
       "    <tr>\n",
       "      <th>571</th>\n",
       "      <td>GBP</td>\n",
       "      <td>GBP/USD</td>\n",
       "      <td>FX</td>\n",
       "      <td>0.00</td>\n",
       "      <td>1.00</td>\n",
       "      <td>198,247,300.00</td>\n",
       "      <td>0.00</td>\n",
       "      <td>0.00</td>\n",
       "      <td>Cash and/or Derivatives</td>\n",
       "      <td>ABC571</td>\n",
       "      <td>0.00</td>\n",
       "      <td>11/Aug/2021</td>\n",
       "      <td>-</td>\n",
       "      <td>United States</td>\n",
       "      <td>USD</td>\n",
       "      <td>0.00</td>\n",
       "    </tr>\n",
       "    <tr>\n",
       "      <th>572</th>\n",
       "      <td>GBP</td>\n",
       "      <td>GBP CASH</td>\n",
       "      <td>Cash</td>\n",
       "      <td>-2.72</td>\n",
       "      <td>138.48</td>\n",
       "      <td>-197,984,325.00</td>\n",
       "      <td>-274,168,693.68</td>\n",
       "      <td>-274,168,693.68</td>\n",
       "      <td>Cash and/or Derivatives</td>\n",
       "      <td>ABC572</td>\n",
       "      <td>0.00</td>\n",
       "      <td>-</td>\n",
       "      <td>-</td>\n",
       "      <td>United Kingdom</td>\n",
       "      <td>GBP</td>\n",
       "      <td>0.00</td>\n",
       "    </tr>\n",
       "  </tbody>\n",
       "</table>\n",
       "<p>573 rows × 16 columns</p>\n",
       "</div>"
      ],
      "text/plain": [
       "    Issuer Ticker                                   Name   Asset Class  \\\n",
       "0             USD                               USD CASH          Cash   \n",
       "1            ECUA  ECUADOR REPUBLIC OF (GOVERNMENT) RegS  Fixed Income   \n",
       "2          RUSSIA                RUSSIAN FEDERATION RegS  Fixed Income   \n",
       "3          URUGUA         URUGUAY (ORIENTAL REPUBLIC OF)  Fixed Income   \n",
       "4           KUWIB  KUWAIT STATE OF (GOVERNMENT) MTN RegS  Fixed Income   \n",
       "..            ...                                    ...           ...   \n",
       "568           MXN                               MXN CASH          Cash   \n",
       "569           CHF                               CHF CASH          Cash   \n",
       "570           EUR                               EUR CASH          Cash   \n",
       "571           GBP                                GBP/USD            FX   \n",
       "572           GBP                               GBP CASH          Cash   \n",
       "\n",
       "     Weight (%)   Price          Nominal     Market Value   Notional Value  \\\n",
       "0          2.83  100.00   284,531,412.00   284,531,411.54   284,531,411.54   \n",
       "1          0.83   68.75   121,919,614.00    83,850,214.53    83,850,214.53   \n",
       "2          0.82  128.71    64,000,000.00    82,801,333.33    82,801,333.33   \n",
       "3          0.74  131.18    56,833,766.00    74,962,316.51    74,962,316.51   \n",
       "4          0.72  111.61    64,110,000.00    72,421,149.17    72,421,149.17   \n",
       "..          ...     ...              ...              ...              ...   \n",
       "568        0.00    4.97     3,330,911.00       165,599.56       165,599.56   \n",
       "569        0.00  108.75        23,549.00        25,609.27        25,609.27   \n",
       "570        0.00  117.45           952.00         1,118.50         1,118.50   \n",
       "571        0.00    1.00   198,247,300.00             0.00             0.00   \n",
       "572       -2.72  138.48  -197,984,325.00  -274,168,693.68  -274,168,693.68   \n",
       "\n",
       "                      Sector          ISIN  Coupon (%)     Maturity Exchange  \\\n",
       "0    Cash and/or Derivatives          ABC0        0.00            -        -   \n",
       "1                  Sovereign  XS2214238441        1.00  31/Jul/2035        -   \n",
       "2                  Sovereign  RU000A0JXU14        5.25  23/Jun/2047        -   \n",
       "3                  Sovereign  US760942BA98        5.10  18/Jun/2050        -   \n",
       "4                  Sovereign  XS1582346968        3.50  20/Mar/2027        -   \n",
       "..                       ...           ...         ...          ...      ...   \n",
       "568  Cash and/or Derivatives        ABC568        0.00            -        -   \n",
       "569  Cash and/or Derivatives        ABC569        0.00            -        -   \n",
       "570  Cash and/or Derivatives        ABC570        0.00            -        -   \n",
       "571  Cash and/or Derivatives        ABC571        0.00  11/Aug/2021        -   \n",
       "572  Cash and/or Derivatives        ABC572        0.00            -        -   \n",
       "\n",
       "               Location Market Currency  Duration  \n",
       "0         United States             USD      0.00  \n",
       "1               Ecuador             USD      8.75  \n",
       "2    Russian Federation             USD     15.26  \n",
       "3               Uruguay             USD     16.17  \n",
       "4                Kuwait             USD      5.09  \n",
       "..                  ...             ...       ...  \n",
       "568              Mexico             MXN      0.00  \n",
       "569         Switzerland             CHF      0.00  \n",
       "570      European Union             EUR      0.00  \n",
       "571       United States             USD      0.00  \n",
       "572      United Kingdom             GBP      0.00  \n",
       "\n",
       "[573 rows x 16 columns]"
      ]
     },
     "execution_count": 8,
     "metadata": {},
     "output_type": "execute_result"
    }
   ],
   "source": [
    "holdings"
   ]
  },
  {
   "cell_type": "code",
   "execution_count": 9,
   "metadata": {},
   "outputs": [
    {
     "name": "stdout",
     "output_type": "stream",
     "text": [
      "Number of securities in ETF:   573\n",
      "Number of unique identifiers:  573\n"
     ]
    }
   ],
   "source": [
    "print(\"Number of securities in ETF:  \", len(holdings))\n",
    "print(\"Number of unique identifiers: \", len(set(holdings[\"ISIN\"])))"
   ]
  },
  {
   "cell_type": "markdown",
   "metadata": {},
   "source": [
    "Let's make the ISIN identifier the index of the holdings data frame. We will be interested in implementing an efficient scheme to update the NAV of the ETF when one or more of the constituint securities change price. \n",
    "\n",
    "By indexing the data frame with the unique ISIN identifier, we can easily search for a specific security in the data frame in constant time, meaning complexity O(1)."
   ]
  },
  {
   "cell_type": "code",
   "execution_count": 10,
   "metadata": {},
   "outputs": [],
   "source": [
    "holdings.set_index(\n",
    "    keys    = \"ISIN\",\n",
    "    drop    = True,\n",
    "    inplace = True)"
   ]
  },
  {
   "cell_type": "markdown",
   "metadata": {},
   "source": [
    "Also, we are only going to need the weight of each security, the \"initial\" price and the market currency"
   ]
  },
  {
   "cell_type": "code",
   "execution_count": 11,
   "metadata": {},
   "outputs": [],
   "source": [
    "holdings[\"Weight\"] = 0.01*holdings[r\"Weight (%)\"]"
   ]
  },
  {
   "cell_type": "code",
   "execution_count": 12,
   "metadata": {},
   "outputs": [],
   "source": [
    "holdings = holdings[[\"Weight\", \"Price\", \"Market Currency\"]]"
   ]
  },
  {
   "cell_type": "code",
   "execution_count": 13,
   "metadata": {},
   "outputs": [
    {
     "data": {
      "text/html": [
       "<div>\n",
       "<style scoped>\n",
       "    .dataframe tbody tr th:only-of-type {\n",
       "        vertical-align: middle;\n",
       "    }\n",
       "\n",
       "    .dataframe tbody tr th {\n",
       "        vertical-align: top;\n",
       "    }\n",
       "\n",
       "    .dataframe thead th {\n",
       "        text-align: right;\n",
       "    }\n",
       "</style>\n",
       "<table border=\"1\" class=\"dataframe\">\n",
       "  <thead>\n",
       "    <tr style=\"text-align: right;\">\n",
       "      <th></th>\n",
       "      <th>Weight</th>\n",
       "      <th>Price</th>\n",
       "      <th>Market Currency</th>\n",
       "    </tr>\n",
       "    <tr>\n",
       "      <th>ISIN</th>\n",
       "      <th></th>\n",
       "      <th></th>\n",
       "      <th></th>\n",
       "    </tr>\n",
       "  </thead>\n",
       "  <tbody>\n",
       "    <tr>\n",
       "      <th>ABC0</th>\n",
       "      <td>0.0283</td>\n",
       "      <td>100.00</td>\n",
       "      <td>USD</td>\n",
       "    </tr>\n",
       "    <tr>\n",
       "      <th>XS2214238441</th>\n",
       "      <td>0.0083</td>\n",
       "      <td>68.75</td>\n",
       "      <td>USD</td>\n",
       "    </tr>\n",
       "    <tr>\n",
       "      <th>RU000A0JXU14</th>\n",
       "      <td>0.0082</td>\n",
       "      <td>128.71</td>\n",
       "      <td>USD</td>\n",
       "    </tr>\n",
       "    <tr>\n",
       "      <th>US760942BA98</th>\n",
       "      <td>0.0074</td>\n",
       "      <td>131.18</td>\n",
       "      <td>USD</td>\n",
       "    </tr>\n",
       "    <tr>\n",
       "      <th>XS1582346968</th>\n",
       "      <td>0.0072</td>\n",
       "      <td>111.61</td>\n",
       "      <td>USD</td>\n",
       "    </tr>\n",
       "    <tr>\n",
       "      <th>...</th>\n",
       "      <td>...</td>\n",
       "      <td>...</td>\n",
       "      <td>...</td>\n",
       "    </tr>\n",
       "    <tr>\n",
       "      <th>ABC568</th>\n",
       "      <td>0.0000</td>\n",
       "      <td>4.97</td>\n",
       "      <td>MXN</td>\n",
       "    </tr>\n",
       "    <tr>\n",
       "      <th>ABC569</th>\n",
       "      <td>0.0000</td>\n",
       "      <td>108.75</td>\n",
       "      <td>CHF</td>\n",
       "    </tr>\n",
       "    <tr>\n",
       "      <th>ABC570</th>\n",
       "      <td>0.0000</td>\n",
       "      <td>117.45</td>\n",
       "      <td>EUR</td>\n",
       "    </tr>\n",
       "    <tr>\n",
       "      <th>ABC571</th>\n",
       "      <td>0.0000</td>\n",
       "      <td>1.00</td>\n",
       "      <td>USD</td>\n",
       "    </tr>\n",
       "    <tr>\n",
       "      <th>ABC572</th>\n",
       "      <td>-0.0272</td>\n",
       "      <td>138.48</td>\n",
       "      <td>GBP</td>\n",
       "    </tr>\n",
       "  </tbody>\n",
       "</table>\n",
       "<p>573 rows × 3 columns</p>\n",
       "</div>"
      ],
      "text/plain": [
       "              Weight   Price Market Currency\n",
       "ISIN                                        \n",
       "ABC0          0.0283  100.00             USD\n",
       "XS2214238441  0.0083   68.75             USD\n",
       "RU000A0JXU14  0.0082  128.71             USD\n",
       "US760942BA98  0.0074  131.18             USD\n",
       "XS1582346968  0.0072  111.61             USD\n",
       "...              ...     ...             ...\n",
       "ABC568        0.0000    4.97             MXN\n",
       "ABC569        0.0000  108.75             CHF\n",
       "ABC570        0.0000  117.45             EUR\n",
       "ABC571        0.0000    1.00             USD\n",
       "ABC572       -0.0272  138.48             GBP\n",
       "\n",
       "[573 rows x 3 columns]"
      ]
     },
     "execution_count": 13,
     "metadata": {},
     "output_type": "execute_result"
    }
   ],
   "source": [
    "holdings"
   ]
  },
  {
   "cell_type": "markdown",
   "metadata": {},
   "source": [
    "Some of the securities are listed in different currencies. However, when traded on an exchange, the ETF will always be quoted on a specific currency. I want to calculate the NAV always in USD. I'm going to create a \"random\" table of exchange rates. In reality, every time the exchange rate changes I may need to update my ETF NAV. Here, for the sake of simplicity, I will assume fixed exchange rates:"
   ]
  },
  {
   "cell_type": "code",
   "execution_count": 14,
   "metadata": {},
   "outputs": [
    {
     "data": {
      "text/plain": [
       "{'CHF', 'EUR', 'GBP', 'MXN', 'USD'}"
      ]
     },
     "execution_count": 14,
     "metadata": {},
     "output_type": "execute_result"
    }
   ],
   "source": [
    "set(holdings[\"Market Currency\"])"
   ]
  },
  {
   "cell_type": "markdown",
   "metadata": {},
   "source": [
    "Exchange rates will be defined on a dictionary (hash table), so they can be access/modified in constant time."
   ]
  },
  {
   "cell_type": "code",
   "execution_count": 15,
   "metadata": {},
   "outputs": [],
   "source": [
    "X_USD = { # This will be the USD value of the \"X\" currency\n",
    "    \"USD\": 1.0,\n",
    "    \"CHF\": 1.1,\n",
    "    \"EUR\": 1.2,\n",
    "    \"GBP\": 1.4,\n",
    "    \"MXN\": 0.05,\n",
    "}"
   ]
  },
  {
   "cell_type": "markdown",
   "metadata": {},
   "source": [
    "## ETF object abstraction"
   ]
  },
  {
   "cell_type": "markdown",
   "metadata": {},
   "source": [
    "Let's create a class, whose objects will be the diffenrent ETFs.\n",
    "These object will contain 2 methods to update the ETF NAV upon price changes of the constituent securities. These methods are:\n",
    "\n",
    " - **update_NAV_method1**: Uses data frames, which store the constituent's price, weight and market currency. The ISIN unique identifier is used as an index. Price search/modification should run in constant time O(1). \n",
    " \n",
    " - **update_NAV_method2**: Uses dictionaries. Three different dictionaries store the constituent's price, weight and market currency. The ISIN is used as key for all these dictionaries. Price search/modification should run in constant time O(1). \n",
    " \n",
    "Both these methods take as single argument a dictionary - *new_prices* - containing the securities which have undergone price change, in the form: {ISIN: new price}. We can then handle multiple price changes in one call to the update NAV methods.\n",
    "\n",
    "The ETF is implemented below:"
   ]
  },
  {
   "cell_type": "code",
   "execution_count": 16,
   "metadata": {},
   "outputs": [],
   "source": [
    "class ETF():\n",
    "    \n",
    "    \"\"\"\n",
    "    ETF class.\n",
    "\n",
    "    Attributes\n",
    "    ----------\n",
    "    composition : DataFrame\n",
    "        Data frame with weights, price and market currency of each security in the ETF\n",
    "    NAV : float\n",
    "        Net Asset Value (in USD)\n",
    "    exchange_rates : dict\n",
    "        Exchange rate into USD\n",
    "\n",
    "    Methods\n",
    "    -------\n",
    "    construct():\n",
    "        Constructs the initial ETF value.\n",
    "    update_NAV_method1():\n",
    "        Updates the current ETF NAV, using data frames.\n",
    "    update_NAV_method2():\n",
    "        Updates the current ETF NAV, using dictionaries.\n",
    "    get_NAV():\n",
    "        Returns the current ETF NAV.\n",
    "    __str__():\n",
    "        Prints the current ETF NAV.\n",
    "    \"\"\"\n",
    "    \n",
    "    def __init__(self):\n",
    "        self.composition    = None\n",
    "        self.NAV            = None\n",
    "        self.exchange_rates = None\n",
    "        \n",
    "        \n",
    "    def construct(self, composition, exchange_rates):\n",
    "        \n",
    "        \"\"\"\n",
    "        Constructs the initial ETF value.\n",
    "        \n",
    "            Parameters:\n",
    "                composition (DataFrame): Data Frame with the constituents of the ETF.\n",
    "                exchange_rates (dict): Dictionary with the exchange rates to USD.\n",
    "            \n",
    "        \"\"\"\n",
    "        \n",
    "        # Encapsulates the holdings data frame and the exchange rate dictionary\n",
    "        self.composition = composition.copy(deep=True)\n",
    "        self.exchange_rates = copy.deepcopy(exchange_rates)\n",
    "        \n",
    "        # Creates dictionaries (hash tables) for storing the ETF securities price, weight and market currency\n",
    "        self.composition_price    = self.composition[\"Price\"].to_dict()\n",
    "        self.composition_weight   = self.composition[\"Weight\"].to_dict()\n",
    "        self.composition_currency = self.composition[\"Market Currency\"].to_dict()\n",
    "        \n",
    "        # Calculates the inital ETF NAV\n",
    "        self.NAV = self.composition.apply(\n",
    "            lambda row: row[\"Weight\"]*row[\"Price\"]*self.exchange_rates[row[\"Market Currency\"]], \n",
    "            axis=1).sum()\n",
    "    \n",
    "        \n",
    "    def update_NAV_method1(self, new_prices):\n",
    "\n",
    "        \"\"\"\n",
    "        Updates the current ETF NAV, given a change price of one (or more) of the constituent securities.\n",
    "        Uses DataFrame native indexing to handle the updates\n",
    "        \n",
    "            Parameters:\n",
    "                new_prices (dict): Dictionary with (key, value) = (ISIN, updated price)\n",
    "            \n",
    "        \"\"\"\n",
    "        \n",
    "        for security, new_price in new_prices.items():\n",
    "            self.NAV += self.composition.loc[security, \"Weight\"] * (new_price-self.composition.loc[security, \"Price\"]) * \\\n",
    "                        self.exchange_rates[self.composition.loc[security, \"Market Currency\"]]\n",
    "            self.composition.loc[security, \"Price\"] = new_price\n",
    "    \n",
    "    \n",
    "    def update_NAV_method2(self, new_prices):\n",
    "\n",
    "        \"\"\"\n",
    "        Updates the current ETF NAV, given a change price of one (or more) of the constituent securities.\n",
    "        Uses dictionaries (hash tables).\n",
    "        \n",
    "            Parameters:\n",
    "                new_prices (dict): Dictionary with (key, value) = (ISIN, updated price)\n",
    "            \n",
    "        \"\"\"\n",
    "        \n",
    "        for security, new_price in new_prices.items():\n",
    "            self.NAV += self.composition_weight[security] * (new_price-self.composition_price[security]) * \\\n",
    "                        self.exchange_rates[self.composition_currency[security]]\n",
    "            self.composition_price[security] = new_price\n",
    "        \n",
    "    \n",
    "    def get_NAV(self):\n",
    "        \n",
    "        \"\"\"\n",
    "        Returns the current ETF NAV.\n",
    "        \"\"\"\n",
    "        \n",
    "        return(self.NAV)\n",
    "    \n",
    "    \n",
    "    def __str__(self):\n",
    "        \n",
    "        \"\"\"\n",
    "        Prints the current ETF NAV.\n",
    "        \"\"\" \n",
    "        \n",
    "        return(\"Current ETF's NAV = \"+str(self.NAV)+\" USD\")"
   ]
  },
  {
   "cell_type": "markdown",
   "metadata": {},
   "source": [
    "Let's now see how to use object of the *ETF* type:"
   ]
  },
  {
   "cell_type": "code",
   "execution_count": 17,
   "metadata": {},
   "outputs": [],
   "source": [
    "jpea_1 = ETF()\n",
    "jpea_2 = ETF()"
   ]
  },
  {
   "cell_type": "markdown",
   "metadata": {},
   "source": [
    "We now send the data frame containing the ETF holdings, as well as the previously defined dictionary of exchange rates to the *construct* method. Besides encapsulating these quantities and creating the necessary dictionaries used to update the NAV, it will also calculate the \"initial\" ETF value:"
   ]
  },
  {
   "cell_type": "code",
   "execution_count": 18,
   "metadata": {},
   "outputs": [],
   "source": [
    "jpea_1.construct(\n",
    "    composition    = holdings,\n",
    "    exchange_rates = X_USD)\n",
    "jpea_2.construct(\n",
    "    composition    = holdings,\n",
    "    exchange_rates = X_USD)"
   ]
  },
  {
   "cell_type": "markdown",
   "metadata": {},
   "source": [
    "Let's check the ETF's initial value:"
   ]
  },
  {
   "cell_type": "code",
   "execution_count": 19,
   "metadata": {},
   "outputs": [
    {
     "name": "stdout",
     "output_type": "stream",
     "text": [
      "Current ETF's NAV = 105.8180466 USD\n",
      "Current ETF's NAV = 105.8180466 USD\n"
     ]
    }
   ],
   "source": [
    "print(jpea_1)\n",
    "print(jpea_2)"
   ]
  },
  {
   "cell_type": "markdown",
   "metadata": {},
   "source": [
    "Let's now simulate a price change in two of the ETF's holdings, and update the its NAV using the two methods described above:"
   ]
  },
  {
   "cell_type": "code",
   "execution_count": 20,
   "metadata": {},
   "outputs": [],
   "source": [
    "new_prices = {\n",
    "    holdings.index[1]: holdings.iloc[1][\"Price\"]+1/holdings.iloc[1][\"Weight\"],\n",
    "    holdings.index[2]: holdings.iloc[2][\"Price\"]+5/holdings.iloc[2][\"Weight\"]\n",
    "} # the price change is engineered to increase the NAV value by 6 USD"
   ]
  },
  {
   "cell_type": "code",
   "execution_count": 21,
   "metadata": {},
   "outputs": [],
   "source": [
    "jpea_1.update_NAV_method1(\n",
    "    new_prices = new_prices)"
   ]
  },
  {
   "cell_type": "code",
   "execution_count": 22,
   "metadata": {},
   "outputs": [],
   "source": [
    "jpea_2.update_NAV_method2(\n",
    "    new_prices = new_prices)"
   ]
  },
  {
   "cell_type": "code",
   "execution_count": 23,
   "metadata": {},
   "outputs": [
    {
     "name": "stdout",
     "output_type": "stream",
     "text": [
      "Current ETF's NAV = 111.8180466 USD\n"
     ]
    }
   ],
   "source": [
    "print(jpea_1)"
   ]
  },
  {
   "cell_type": "code",
   "execution_count": 24,
   "metadata": {},
   "outputs": [
    {
     "name": "stdout",
     "output_type": "stream",
     "text": [
      "Current ETF's NAV = 111.8180466 USD\n"
     ]
    }
   ],
   "source": [
    "print(jpea_2)"
   ]
  },
  {
   "cell_type": "markdown",
   "metadata": {},
   "source": [
    "## Performance Analysis"
   ]
  },
  {
   "cell_type": "markdown",
   "metadata": {},
   "source": [
    "Let's now run some experiments to test the performance of our ETF value updating methods:\n",
    "We will begin by using the real JPEA holdings imported above:"
   ]
  },
  {
   "cell_type": "markdown",
   "metadata": {},
   "source": [
    "### Real ETF"
   ]
  },
  {
   "cell_type": "markdown",
   "metadata": {},
   "source": [
    "In order to make all the results here reproducible, I will use a random generator with fixed seed:"
   ]
  },
  {
   "cell_type": "code",
   "execution_count": 25,
   "metadata": {},
   "outputs": [],
   "source": [
    "rng = default_rng(seed=41)"
   ]
  },
  {
   "cell_type": "markdown",
   "metadata": {},
   "source": [
    "Let's set some parameter for the experiment:"
   ]
  },
  {
   "cell_type": "code",
   "execution_count": 26,
   "metadata": {},
   "outputs": [],
   "source": [
    "N = 1e3     # Number of NAV updating iterations\n",
    "p = 0.01    # Probability of a price change of each security, at each iteration\n",
    "\n",
    "# Price changes will be drawn from a normal distribution with the following mean and std values:\n",
    "dp_mean = 0\n",
    "dp_std  = 1"
   ]
  },
  {
   "cell_type": "markdown",
   "metadata": {},
   "source": [
    "I want to test both methods on exactly the same set of operations. Let's create two ETF objects with exactly the same holdings:"
   ]
  },
  {
   "cell_type": "code",
   "execution_count": 27,
   "metadata": {},
   "outputs": [],
   "source": [
    "etf1 = ETF()\n",
    "etf1.construct(\n",
    "    composition    = holdings,\n",
    "    exchange_rates = X_USD)\n",
    "\n",
    "etf2 = ETF()\n",
    "etf2.construct(\n",
    "    composition    = holdings,\n",
    "    exchange_rates = X_USD)"
   ]
  },
  {
   "cell_type": "markdown",
   "metadata": {},
   "source": [
    "Let's now create a function that simulates N iterations of NAV updates. Details are shown as comments on the code:\n",
    "\n",
    "**Note:** While I have tried to optimized the ETF class for numerical efficiency, the following set of routines that implement the simulation have not been optimized for efficiency."
   ]
  },
  {
   "cell_type": "code",
   "execution_count": 28,
   "metadata": {},
   "outputs": [],
   "source": [
    "def estimate_NAV_updating_time(N, p, dp_mean, dp_std, etf1, etf2, n_price_changes=None):\n",
    "    \n",
    "    # Initializes lists to store ETF NAV updateing times, for both methods described before\n",
    "    update_times_df   = []\n",
    "    update_times_hash = []\n",
    "    \n",
    "    for i in range(0, int(N)):\n",
    "\n",
    "        # Number of securities that have undergone price change.\n",
    "        # If n_price_changes is None, the number of price changes is drawn from a binomial distribution, where we\n",
    "        # ... consider a 0.01 probability of each security changing price. Otherwise,\n",
    "        # ... it uses the value provided to the n_price_changes argument.\n",
    "        if n_price_changes is None:\n",
    "            n_price_changes = rng.binomial(\n",
    "                n    = len(etf1.composition),\n",
    "                p    = p,\n",
    "                size = 1)\n",
    "        \n",
    "        # Draws which securities changed price\n",
    "        inds = rng.integers(\n",
    "            low  = 0,\n",
    "            high = len(etf1.composition)-1,\n",
    "            size = n_price_changes)\n",
    "\n",
    "        # Simulates the new_prices dictionary, as described before\n",
    "        price_changes = rng.normal(\n",
    "                    loc   = dp_mean,\n",
    "                    scale = dp_std,\n",
    "                    size  = n_price_changes)\n",
    "        new_prices = dict()\n",
    "        for j, ind in enumerate(inds):\n",
    "            new_prices.update(\n",
    "                {etf1.composition.index[ind]: etf1.composition.iloc[ind][\"Price\"]+price_changes[j]})\n",
    "\n",
    "        # Updates and ETF 1 NAV value, using DataFrame indexing - method 1\n",
    "        t1 = time.time()\n",
    "        etf1.update_NAV_method1(\n",
    "            new_prices = new_prices)\n",
    "        t2 = time.time()\n",
    "        update_times_df.append(t2-t1)\n",
    "            \n",
    "        # Updates and ETF 2 NAV value, using dictionaries (hash tables) - method 2. \n",
    "        t1 = time.time()\n",
    "        etf2.update_NAV_method2(\n",
    "            new_prices = new_prices)\n",
    "        t2 = time.time()\n",
    "        update_times_hash.append(t2-t1)\n",
    "        \n",
    "        \n",
    "    return update_times_df, update_times_hash"
   ]
  },
  {
   "cell_type": "markdown",
   "metadata": {},
   "source": [
    "Let's now run the simulation"
   ]
  },
  {
   "cell_type": "code",
   "execution_count": 29,
   "metadata": {},
   "outputs": [],
   "source": [
    "update_times_df, update_times_hash = estimate_NAV_updating_time(\n",
    "    N               = N, \n",
    "    p               = p, \n",
    "    dp_mean         = dp_mean, \n",
    "    dp_std          = dp_std,\n",
    "    etf1            = etf1,\n",
    "    etf2            = etf2,\n",
    "    n_price_changes = None)\n",
    "\n",
    "update_times = np.array([update_times_df, update_times_hash]).T"
   ]
  },
  {
   "cell_type": "markdown",
   "metadata": {},
   "source": [
    "And plot the results:"
   ]
  },
  {
   "cell_type": "code",
   "execution_count": 30,
   "metadata": {},
   "outputs": [
    {
     "data": {
      "image/png": "[encoded data removed]",
      "text/plain": [
       "<Figure size 432x288 with 1 Axes>"
      ]
     },
     "metadata": {
      "needs_background": "light"
     },
     "output_type": "display_data"
    }
   ],
   "source": [
    "fig, axes = plt.subplots(1, 1, figsize=(6, 4))\n",
    "axes.boxplot(update_times)\n",
    "axes.set_xticklabels([\"Data Frame\", \"Dictionary\"], rotation=0)\n",
    "axes.set_ylabel(\"NAV update time (sec)\")\n",
    "plt.tight_layout()\n",
    "plt.show()"
   ]
  },
  {
   "cell_type": "code",
   "execution_count": 31,
   "metadata": {},
   "outputs": [
    {
     "name": "stdout",
     "output_type": "stream",
     "text": [
      "Average update time using Data Frames:   0.0026380674839019775\n",
      "Average update time using Dictionaries:  1.3316154479980468e-05\n",
      "Ratio:                                   198.11030938909977\n"
     ]
    }
   ],
   "source": [
    "print(\"Average update time using Data Frames:  \", np.mean(update_times_df))\n",
    "print(\"Average update time using Dictionaries: \", np.mean(update_times_hash))\n",
    "print(\"Ratio:                                  \", np.mean(update_times_df)/np.mean(update_times_hash))"
   ]
  },
  {
   "cell_type": "markdown",
   "metadata": {},
   "source": [
    "It seems that method 2 (using dictionaries) highly outperforms the data frame indexing. \n",
    "\n",
    "To make sure we have perform exacly the same operations on both etf1 and etf2, let's print the final NAV of both:"
   ]
  },
  {
   "cell_type": "code",
   "execution_count": 32,
   "metadata": {},
   "outputs": [
    {
     "name": "stdout",
     "output_type": "stream",
     "text": [
      "Current ETF's NAV = 105.73044187849463 USD\n",
      "Current ETF's NAV = 105.73044187849463 USD\n"
     ]
    }
   ],
   "source": [
    "print(etf1)\n",
    "print(etf2)"
   ]
  },
  {
   "cell_type": "markdown",
   "metadata": {},
   "source": [
    "Since we are using a binomial distribution to sample the number of price changes per NAV update iteration, the NAV updating time should reflect this. Let's now repeat the experiment, but fixing the number of price changes per NAV update to 5:"
   ]
  },
  {
   "cell_type": "code",
   "execution_count": 33,
   "metadata": {},
   "outputs": [],
   "source": [
    "update_times_df, update_times_hash = estimate_NAV_updating_time(\n",
    "    N               = N, \n",
    "    p               = p, \n",
    "    dp_mean         = dp_mean, \n",
    "    dp_std          = dp_std,\n",
    "    etf1            = etf1,\n",
    "    etf2            = etf2,\n",
    "    n_price_changes = 5)\n",
    "\n",
    "update_times = np.array([update_times_df, update_times_hash]).T"
   ]
  },
  {
   "cell_type": "code",
   "execution_count": 34,
   "metadata": {},
   "outputs": [
    {
     "data": {
      "image/png": "[encoded data removed]",
      "text/plain": [
       "<Figure size 432x288 with 1 Axes>"
      ]
     },
     "metadata": {
      "needs_background": "light"
     },
     "output_type": "display_data"
    }
   ],
   "source": [
    "fig, axes = plt.subplots(1, 1, figsize=(6, 4))\n",
    "axes.boxplot(update_times)\n",
    "axes.set_xticklabels([\"Data Frame\", \"Dictionary\"], rotation=0)\n",
    "axes.set_ylabel(\"NAV update time (sec)\")\n",
    "plt.tight_layout()\n",
    "plt.show()"
   ]
  },
  {
   "cell_type": "code",
   "execution_count": 35,
   "metadata": {},
   "outputs": [
    {
     "name": "stdout",
     "output_type": "stream",
     "text": [
      "Average update time using Data Frames:   0.001434631586074829\n",
      "Average update time using Dictionaries:  9.687185287475586e-06\n",
      "Ratio:                                   148.09581354138464\n"
     ]
    }
   ],
   "source": [
    "print(\"Average update time using Data Frames:  \", np.mean(update_times_df))\n",
    "print(\"Average update time using Dictionaries: \", np.mean(update_times_hash))\n",
    "print(\"Ratio:                                  \", np.mean(update_times_df)/np.mean(update_times_hash))"
   ]
  },
  {
   "cell_type": "markdown",
   "metadata": {},
   "source": [
    "### Simulated ETF's"
   ]
  },
  {
   "cell_type": "markdown",
   "metadata": {},
   "source": [
    "I now want to run to general experiments, including running efficiency tests on different sized ETF's. To do so, I need to be able to generate random ETF holdings. The following function generates a random holdings data frame for a synthetic ETF composed of *n_securities*:"
   ]
  },
  {
   "cell_type": "code",
   "execution_count": 36,
   "metadata": {},
   "outputs": [],
   "source": [
    "def generate_ETF_holdings(n_securities, rng):\n",
    "        \n",
    "    # Draws weights from uniform distribution\n",
    "    weights = rng.uniform(\n",
    "        low  = 0,\n",
    "        high = 1,\n",
    "        size = n_securities)\n",
    "    weights = weights / weights.sum()\n",
    "    \n",
    "    # Draws the initial securities prices, sampled from a normal distribution of mean 100 and std 1\n",
    "    prices = rng.normal(\n",
    "        loc   = 100,\n",
    "        scale = 1,\n",
    "        size  = n_securities)\n",
    "    \n",
    "    # Creates the unique identifiers\n",
    "    unique_ids = [\"Security\"+str(i) for i in range(0, n_securities)]\n",
    "        \n",
    "    # Creates the ETF holdings data frame\n",
    "    holdings = pd.DataFrame(\n",
    "        index = unique_ids)\n",
    "    holdings.index.name = \"ISIN\"\n",
    "    holdings[\"Price\"]           = prices\n",
    "    holdings[\"Weight\"]          = weights\n",
    "    holdings[\"Market Currency\"] = \"USD\"\n",
    "    \n",
    "    return holdings"
   ]
  },
  {
   "cell_type": "markdown",
   "metadata": {},
   "source": [
    "Let's see one example:"
   ]
  },
  {
   "cell_type": "code",
   "execution_count": 37,
   "metadata": {},
   "outputs": [],
   "source": [
    "n_securities = 10"
   ]
  },
  {
   "cell_type": "code",
   "execution_count": 38,
   "metadata": {},
   "outputs": [
    {
     "data": {
      "text/html": [
       "<div>\n",
       "<style scoped>\n",
       "    .dataframe tbody tr th:only-of-type {\n",
       "        vertical-align: middle;\n",
       "    }\n",
       "\n",
       "    .dataframe tbody tr th {\n",
       "        vertical-align: top;\n",
       "    }\n",
       "\n",
       "    .dataframe thead th {\n",
       "        text-align: right;\n",
       "    }\n",
       "</style>\n",
       "<table border=\"1\" class=\"dataframe\">\n",
       "  <thead>\n",
       "    <tr style=\"text-align: right;\">\n",
       "      <th></th>\n",
       "      <th>Price</th>\n",
       "      <th>Weight</th>\n",
       "      <th>Market Currency</th>\n",
       "    </tr>\n",
       "    <tr>\n",
       "      <th>ISIN</th>\n",
       "      <th></th>\n",
       "      <th></th>\n",
       "      <th></th>\n",
       "    </tr>\n",
       "  </thead>\n",
       "  <tbody>\n",
       "    <tr>\n",
       "      <th>Security0</th>\n",
       "      <td>100.051491</td>\n",
       "      <td>0.015638</td>\n",
       "      <td>USD</td>\n",
       "    </tr>\n",
       "    <tr>\n",
       "      <th>Security1</th>\n",
       "      <td>100.349253</td>\n",
       "      <td>0.113749</td>\n",
       "      <td>USD</td>\n",
       "    </tr>\n",
       "    <tr>\n",
       "      <th>Security2</th>\n",
       "      <td>98.383032</td>\n",
       "      <td>0.145440</td>\n",
       "      <td>USD</td>\n",
       "    </tr>\n",
       "    <tr>\n",
       "      <th>Security3</th>\n",
       "      <td>100.510631</td>\n",
       "      <td>0.005047</td>\n",
       "      <td>USD</td>\n",
       "    </tr>\n",
       "    <tr>\n",
       "      <th>Security4</th>\n",
       "      <td>99.590367</td>\n",
       "      <td>0.070827</td>\n",
       "      <td>USD</td>\n",
       "    </tr>\n",
       "    <tr>\n",
       "      <th>Security5</th>\n",
       "      <td>99.148061</td>\n",
       "      <td>0.049436</td>\n",
       "      <td>USD</td>\n",
       "    </tr>\n",
       "    <tr>\n",
       "      <th>Security6</th>\n",
       "      <td>100.169402</td>\n",
       "      <td>0.144271</td>\n",
       "      <td>USD</td>\n",
       "    </tr>\n",
       "    <tr>\n",
       "      <th>Security7</th>\n",
       "      <td>99.867898</td>\n",
       "      <td>0.048545</td>\n",
       "      <td>USD</td>\n",
       "    </tr>\n",
       "    <tr>\n",
       "      <th>Security8</th>\n",
       "      <td>100.459193</td>\n",
       "      <td>0.158167</td>\n",
       "      <td>USD</td>\n",
       "    </tr>\n",
       "    <tr>\n",
       "      <th>Security9</th>\n",
       "      <td>99.264351</td>\n",
       "      <td>0.248880</td>\n",
       "      <td>USD</td>\n",
       "    </tr>\n",
       "  </tbody>\n",
       "</table>\n",
       "</div>"
      ],
      "text/plain": [
       "                Price    Weight Market Currency\n",
       "ISIN                                           \n",
       "Security0  100.051491  0.015638             USD\n",
       "Security1  100.349253  0.113749             USD\n",
       "Security2   98.383032  0.145440             USD\n",
       "Security3  100.510631  0.005047             USD\n",
       "Security4   99.590367  0.070827             USD\n",
       "Security5   99.148061  0.049436             USD\n",
       "Security6  100.169402  0.144271             USD\n",
       "Security7   99.867898  0.048545             USD\n",
       "Security8  100.459193  0.158167             USD\n",
       "Security9   99.264351  0.248880             USD"
      ]
     },
     "execution_count": 38,
     "metadata": {},
     "output_type": "execute_result"
    }
   ],
   "source": [
    "generate_ETF_holdings(\n",
    "    n_securities = n_securities,\n",
    "    rng          = rng)"
   ]
  },
  {
   "cell_type": "markdown",
   "metadata": {},
   "source": [
    "I want to now essentially repeat the experiment of the previous section, but considering ETFs of different sizes:"
   ]
  },
  {
   "cell_type": "code",
   "execution_count": 39,
   "metadata": {},
   "outputs": [],
   "source": [
    "n_securities_vals = np.sort(np.array(list(set(np.array(10**np.arange(1, 3.5, 0.025), dtype=int))), dtype=int))"
   ]
  },
  {
   "cell_type": "markdown",
   "metadata": {},
   "source": [
    "The following function essentially wraps the simulation conducted above and repeats it for different sized ETF's. For each synthetic holdings, it returns the average NAV updating time of both methods described vefore, over N value update iterations."
   ]
  },
  {
   "cell_type": "code",
   "execution_count": 40,
   "metadata": {},
   "outputs": [],
   "source": [
    "def estimate_NAV_updating_time_scaling(N, p, dp_mean, dp_std, n_price_changes, n_securities_vals, rng):\n",
    "\n",
    "    average_update_time_df   = []\n",
    "    average_update_time_hash = []\n",
    "\n",
    "    for n_securities in tqdm(n_securities_vals):\n",
    "\n",
    "        # Generates random ETF's holdings\n",
    "        synthetic_holdings = generate_ETF_holdings(\n",
    "            n_securities = n_securities,\n",
    "            rng          = rng)\n",
    "\n",
    "        # Initiates the ETF objects\n",
    "        etf1 = ETF()\n",
    "        etf1.construct(\n",
    "            composition    = synthetic_holdings,\n",
    "            exchange_rates = X_USD)\n",
    "\n",
    "        etf2 = ETF()\n",
    "        etf2.construct(\n",
    "            composition    = synthetic_holdings,\n",
    "            exchange_rates = X_USD)\n",
    "        \n",
    "        # Simulates NAV updating times\n",
    "        update_times_df, update_times_hash = estimate_NAV_updating_time(\n",
    "        N               = N, \n",
    "        p               = p, \n",
    "        dp_mean         = dp_mean, \n",
    "        dp_std          = dp_std,\n",
    "        etf1            = etf1,\n",
    "        etf2            = etf2,\n",
    "        n_price_changes = n_price_changes)\n",
    "\n",
    "        # Calculates average updating times for both schemes\n",
    "        average_update_time_df.append(np.mean(update_times_df))\n",
    "        average_update_time_hash.append(np.mean(update_times_hash))\n",
    "\n",
    "    average_update_time_df   = np.array(average_update_time_df)\n",
    "    average_update_time_hash = np.array(average_update_time_hash)\n",
    "    \n",
    "    return average_update_time_df, average_update_time_hash, etf1, etf2"
   ]
  },
  {
   "cell_type": "markdown",
   "metadata": {},
   "source": [
    "Let's now run the simulation, first considering the number of price changes per NAV update itearation to be drawn from binomial distribution, as described before"
   ]
  },
  {
   "cell_type": "code",
   "execution_count": 41,
   "metadata": {},
   "outputs": [
    {
     "name": "stderr",
     "output_type": "stream",
     "text": [
      "100%|██████████| 97/97 [03:01<00:00,  1.87s/it]\n"
     ]
    }
   ],
   "source": [
    "average_update_time_df, average_update_time_hash, etf1, etf2 = estimate_NAV_updating_time_scaling(\n",
    "    N                 = N, \n",
    "    p                 = p, \n",
    "    dp_mean           = dp_mean, \n",
    "    dp_std            = dp_std, \n",
    "    n_price_changes   = None, # number of prices changes per NAV update iteration is drawn from binomial distribution\n",
    "    n_securities_vals = n_securities_vals,\n",
    "    rng               = rng)"
   ]
  },
  {
   "cell_type": "markdown",
   "metadata": {},
   "source": [
    "Plotting the results:"
   ]
  },
  {
   "cell_type": "code",
   "execution_count": 42,
   "metadata": {},
   "outputs": [
    {
     "data": {
      "image/png": "[encoded data removed]",
      "text/plain": [
       "<Figure size 864x288 with 2 Axes>"
      ]
     },
     "metadata": {
      "needs_background": "light"
     },
     "output_type": "display_data"
    }
   ],
   "source": [
    "fig, axes = plt.subplots(1, 2, figsize=(12, 4))\n",
    "\n",
    "axes[0].plot(n_securities_vals, average_update_time_df, label=\"Data Frame\", color=(1.0,0.5,0.5))\n",
    "axes[0].plot(n_securities_vals, average_update_time_hash, label=\"Dictionary\", color=(0.5,0.5,1.0))\n",
    "axes[0].set_yscale(\"log\")\n",
    "axes[0].set_xscale(\"log\")\n",
    "axes[0].legend()\n",
    "axes[0].set_ylabel(\"Average NAV update time (sec)\")\n",
    "axes[0].set_xlabel(\"Number of ETF securities\")\n",
    "\n",
    "axes[1].plot(n_securities_vals, average_update_time_df/average_update_time_hash, color=(0.5,0.5,0.5))\n",
    "axes[1].set_ylabel(\"Average NAV update time - ratio\")\n",
    "axes[1].set_xlabel(\"Number of ETF securities\")\n",
    "axes[1].set_xscale(\"log\")\n",
    "\n",
    "plt.tight_layout()\n",
    "plt.show()"
   ]
  },
  {
   "cell_type": "markdown",
   "metadata": {},
   "source": [
    "Few notes:\n",
    "\n",
    "- For larger ETFs, method 2 (based on dictionaries) maintains a 200x faster updading time than using native data frame indexing.\n",
    "\n",
    "- It seems that the efficiency difference is more pronounced for larger ETF's. This will be re-examined below.\n",
    "\n",
    "- Both methods seems to scale linearly with the ETF's size. This is an resul of how we conduct the simulation. Given that we are drawing the number of constituent price changes per iteration from a binomial distribution with parameter $p=0.01$, the average number of price changes per iteration grows linearly with the ETF's size. In both cases, the \"single price change updating time\" is kept at constant time. To verify this, let's repeat the experiment above, but considering only a single constituent price change per NAV update iteration:"
   ]
  },
  {
   "cell_type": "code",
   "execution_count": 43,
   "metadata": {},
   "outputs": [
    {
     "name": "stderr",
     "output_type": "stream",
     "text": [
      "100%|██████████| 97/97 [00:51<00:00,  1.87it/s]\n"
     ]
    }
   ],
   "source": [
    "average_update_time_df, average_update_time_hash, etf1, etf2 = estimate_NAV_updating_time_scaling(\n",
    "    N                 = N, \n",
    "    p                 = p, \n",
    "    dp_mean           = dp_mean, \n",
    "    dp_std            = dp_std, \n",
    "    n_price_changes   = 1,  # Single price change per NAV update iteration\n",
    "    n_securities_vals = n_securities_vals,\n",
    "    rng               = rng)"
   ]
  },
  {
   "cell_type": "code",
   "execution_count": 44,
   "metadata": {},
   "outputs": [
    {
     "data": {
      "image/png": "[encoded data removed]",
      "text/plain": [
       "<Figure size 864x288 with 2 Axes>"
      ]
     },
     "metadata": {
      "needs_background": "light"
     },
     "output_type": "display_data"
    }
   ],
   "source": [
    "fig, axes = plt.subplots(1, 2, figsize=(12, 4))\n",
    "\n",
    "axes[0].plot(n_securities_vals, average_update_time_df, label=\"Data Frame\", color=(1.0,0.5,0.5))\n",
    "axes[0].plot(n_securities_vals, average_update_time_hash, label=\"Dictionary\", color=(0.5,0.5,1.0))\n",
    "axes[0].set_yscale(\"log\")\n",
    "axes[0].set_xscale(\"log\")\n",
    "axes[0].legend()\n",
    "axes[0].set_ylabel(\"Average NAV update time (sec)\")\n",
    "axes[0].set_xlabel(\"Number of ETF securities\")\n",
    "\n",
    "axes[1].plot(n_securities_vals, average_update_time_df/average_update_time_hash, color=(0.5,0.5,0.5))\n",
    "axes[1].set_ylabel(\"Average NAV update time - ratio\")\n",
    "axes[1].set_xlabel(\"Number of ETF securities\")\n",
    "axes[1].set_xscale(\"log\")\n",
    "\n",
    "plt.tight_layout()\n",
    "plt.show()"
   ]
  },
  {
   "cell_type": "markdown",
   "metadata": {},
   "source": [
    "- The dictionaty method still outperforms the data frame method.\n",
    "- The NAV update time seems to no longer scale with the ETF size or, at least, scale in a very slow manner, probably due to other overheads involved in the operation.\n",
    "- The difference of efficiencies between the two methods seems to slightly decrease for larger ETFs. Let's repeat the experiment, but change the number of price changes per NAV iteration from 1 to 10:"
   ]
  },
  {
   "cell_type": "code",
   "execution_count": 45,
   "metadata": {},
   "outputs": [
    {
     "name": "stderr",
     "output_type": "stream",
     "text": [
      "100%|██████████| 97/97 [05:28<00:00,  3.39s/it]\n"
     ]
    }
   ],
   "source": [
    "average_update_time_df, average_update_time_hash, etf1, etf2 = estimate_NAV_updating_time_scaling(\n",
    "    N                 = N, \n",
    "    p                 = p, \n",
    "    dp_mean           = dp_mean, \n",
    "    dp_std            = dp_std, \n",
    "    n_price_changes   = 10,  # Single price change per NAV update iteration\n",
    "    n_securities_vals = n_securities_vals,\n",
    "    rng               = rng)"
   ]
  },
  {
   "cell_type": "code",
   "execution_count": 46,
   "metadata": {},
   "outputs": [
    {
     "data": {
      "image/png": "[encoded data removed]",
      "text/plain": [
       "<Figure size 864x288 with 2 Axes>"
      ]
     },
     "metadata": {
      "needs_background": "light"
     },
     "output_type": "display_data"
    }
   ],
   "source": [
    "fig, axes = plt.subplots(1, 2, figsize=(12, 4))\n",
    "\n",
    "axes[0].plot(n_securities_vals, average_update_time_df, label=\"Data Frame\", color=(1.0,0.5,0.5))\n",
    "axes[0].plot(n_securities_vals, average_update_time_hash, label=\"Dictionary\", color=(0.5,0.5,1.0))\n",
    "axes[0].set_yscale(\"log\")\n",
    "axes[0].set_xscale(\"log\")\n",
    "axes[0].legend()\n",
    "axes[0].set_ylabel(\"Average NAV update time (sec)\")\n",
    "axes[0].set_xlabel(\"Number of ETF securities\")\n",
    "\n",
    "axes[1].plot(n_securities_vals, average_update_time_df/average_update_time_hash, color=(0.5,0.5,0.5))\n",
    "axes[1].set_ylabel(\"Average NAV update time - ratio\")\n",
    "axes[1].set_xlabel(\"Number of ETF securities\")\n",
    "axes[1].set_xscale(\"log\")\n",
    "\n",
    "plt.tight_layout()\n",
    "plt.show()"
   ]
  },
  {
   "cell_type": "markdown",
   "metadata": {},
   "source": [
    "- The overall efficiency difference increases, but we stil observe a decrease of the efficincy difference as we increase the ETF size. There seems to be a slight scaling on the method2 with the ETF size. I haven't fully figured out the reason behind it. Let's at least see if this scaling saturates at larger ETF size:"
   ]
  },
  {
   "cell_type": "code",
   "execution_count": 47,
   "metadata": {},
   "outputs": [],
   "source": [
    "n_securities_vals = np.sort(np.array(list(set(np.array(10**np.arange(1, 6, 0.25), dtype=int))), dtype=int))"
   ]
  },
  {
   "cell_type": "code",
   "execution_count": 48,
   "metadata": {},
   "outputs": [
    {
     "name": "stderr",
     "output_type": "stream",
     "text": [
      "100%|██████████| 20/20 [01:21<00:00,  4.07s/it]\n"
     ]
    }
   ],
   "source": [
    "average_update_time_df, average_update_time_hash, etf1, etf2 = estimate_NAV_updating_time_scaling(\n",
    "    N                 = N, \n",
    "    p                 = p, \n",
    "    dp_mean           = dp_mean, \n",
    "    dp_std            = dp_std, \n",
    "    n_price_changes   = 1,  # Single price change per NAV update iteration\n",
    "    n_securities_vals = n_securities_vals,\n",
    "    rng               = rng)"
   ]
  },
  {
   "cell_type": "code",
   "execution_count": 49,
   "metadata": {},
   "outputs": [
    {
     "data": {
      "image/png": "[encoded data removed]",
      "text/plain": [
       "<Figure size 864x288 with 2 Axes>"
      ]
     },
     "metadata": {
      "needs_background": "light"
     },
     "output_type": "display_data"
    }
   ],
   "source": [
    "fig, axes = plt.subplots(1, 2, figsize=(12, 4))\n",
    "\n",
    "axes[0].plot(n_securities_vals, average_update_time_df, label=\"Data Frame\", color=(1.0,0.5,0.5))\n",
    "axes[0].plot(n_securities_vals, average_update_time_hash, label=\"Dictionary\", color=(0.5,0.5,1.0))\n",
    "axes[0].set_yscale(\"log\")\n",
    "axes[0].set_xscale(\"log\")\n",
    "axes[0].legend()\n",
    "axes[0].set_ylabel(\"Average NAV update time (sec)\")\n",
    "axes[0].set_xlabel(\"Number of ETF securities\")\n",
    "\n",
    "axes[1].plot(n_securities_vals, average_update_time_df/average_update_time_hash, color=(0.5,0.5,0.5))\n",
    "axes[1].set_ylabel(\"Average NAV update time - ratio\")\n",
    "axes[1].set_xlabel(\"Number of ETF securities\")\n",
    "axes[1].set_xscale(\"log\")\n",
    "\n",
    "plt.tight_layout()\n",
    "plt.show()"
   ]
  },
  {
   "cell_type": "markdown",
   "metadata": {},
   "source": [
    "It seems that the efficiency different not only does not saturate, but it is actually non-monotonic. This needs further examination."
   ]
  },
  {
   "cell_type": "markdown",
   "metadata": {},
   "source": [
    "**Note**: Despite fixing the random seed, the results will not be exactly reproducible because when timing the function calls, the result will partially depend on external factors to the code. Also, greater efforts still have to be made to make sure the results depend only on the specific implementation of the NAV update methods, and not on the way the simulations are conducted."
   ]
  },
  {
   "cell_type": "code",
   "execution_count": null,
   "metadata": {},
   "outputs": [],
   "source": []
  }
 ],
 "metadata": {
  "kernelspec": {
   "display_name": "Python 3",
   "language": "python",
   "name": "python3"
  },
  "language_info": {
   "codemirror_mode": {
    "name": "ipython",
    "version": 3
   },
   "file_extension": ".py",
   "mimetype": "text/x-python",
   "name": "python",
   "nbconvert_exporter": "python",
   "pygments_lexer": "ipython3",
   "version": "3.8.10"
  }
 },
 "nbformat": 4,
 "nbformat_minor": 4
}
